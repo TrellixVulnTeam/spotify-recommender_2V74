{
 "cells": [
  {
   "cell_type": "markdown",
   "metadata": {},
   "source": [
    "# Spectrogram"
   ]
  },
  {
   "cell_type": "code",
   "execution_count": 2,
   "metadata": {
    "collapsed": false
   },
   "outputs": [
    {
     "name": "stdout",
     "output_type": "stream",
     "text": [
      "Keras version: 1.2.1\n",
      "Keras backend: theano\n",
      "Keras image dim ordering: th\n",
      "Kapre version: 0.0.3\n",
      "________________________________________________________________________________\n",
      "Layer (type)              Output Shape              Param #     Connected to    \n",
      "================================================================================\n",
      "static_stft (Spectrogram) (None, 2, 257, 173)       263168      spectrogram_inpu\n",
      "================================================================================\n",
      "Total params: 263,168\n",
      "Trainable params: 0\n",
      "Non-trainable params: 263,168\n",
      "________________________________________________________________________________\n"
     ]
    }
   ],
   "source": [
    "import keras\n",
    "import kapre\n",
    "from keras.models import Sequential\n",
    "from kapre.time_frequency import Spectrogram\n",
    "import numpy as np\n",
    "\n",
    "print('Keras version: {}'.format(keras.__version__))\n",
    "print('Keras backend: {}'.format(keras.backend._backend))\n",
    "print('Keras image dim ordering: {}'.format(keras.backend.image_dim_ordering()))\n",
    "print('Kapre version: {}'.format(kapre.__version__))\n",
    "\n",
    "src = np.random.random((2, 44100))\n",
    "sr = 44100\n",
    "model = Sequential()\n",
    "model.add(Spectrogram(n_dft=512, n_hop=256, input_shape=src.shape, \n",
    "          return_decibel_spectrogram=True, power_spectrogram=2.0, \n",
    "          trainable_kernel=False, name='static_stft'))\n",
    "model.summary(line_length=80, positions=[.33, .65, .8, 1.])\n"
   ]
  },
  {
   "cell_type": "markdown",
   "metadata": {},
   "source": [
    "# Spectrogram (trainable)"
   ]
  },
  {
   "cell_type": "code",
   "execution_count": 6,
   "metadata": {
    "collapsed": false
   },
   "outputs": [
    {
     "name": "stdout",
     "output_type": "stream",
     "text": [
      "Keras version: 1.2.1\n",
      "Keras backend: theano\n",
      "Keras image dim ordering: th\n",
      "Kapre version: 0.0.3\n",
      "________________________________________________________________________________\n",
      "Layer (type)              Output Shape              Param #     Connected to    \n",
      "================================================================================\n",
      "trainable_stft (Spectrogr (None, 2, 1025, 44)       4198400     spectrogram_inpu\n",
      "================================================================================\n",
      "Total params: 4,198,400\n",
      "Trainable params: 4,198,400\n",
      "Non-trainable params: 0\n",
      "________________________________________________________________________________\n"
     ]
    }
   ],
   "source": [
    "import keras\n",
    "import kapre\n",
    "from keras.models import Sequential\n",
    "from kapre.time_frequency import Spectrogram\n",
    "import numpy as np\n",
    "\n",
    "print('Keras version: {}'.format(keras.__version__))\n",
    "print('Keras backend: {}'.format(keras.backend._backend))\n",
    "print('Keras image dim ordering: {}'.format(keras.backend.image_dim_ordering()))\n",
    "print('Kapre version: {}'.format(kapre.__version__))\n",
    "\n",
    "src = np.random.random((2, 44100))\n",
    "sr = 44100\n",
    "model = Sequential()\n",
    "model.add(Spectrogram(n_dft=2048, n_hop=1024, input_shape=src.shape, \n",
    "          return_decibel_spectrogram=True, power_spectrogram=2.0, \n",
    "          trainable_kernel=True, name='trainable_stft'))\n",
    "model.summary(line_length=80, positions=[.33, .65, .8, 1.])"
   ]
  },
  {
   "cell_type": "markdown",
   "metadata": {},
   "source": [
    "# Melspectrogram"
   ]
  },
  {
   "cell_type": "code",
   "execution_count": 7,
   "metadata": {
    "collapsed": false
   },
   "outputs": [
    {
     "name": "stdout",
     "output_type": "stream",
     "text": [
      "Keras version: 1.2.1\n",
      "Keras backend: theano\n",
      "Keras image dim ordering: th\n",
      "Kapre version: 0.0.3\n",
      "________________________________________________________________________________\n",
      "Layer (type)              Output Shape              Param #     Connected to    \n",
      "================================================================================\n",
      "melgram (Melspectrogram)  (None, 2, 128, 173)       296064      melspectrogram_i\n",
      "================================================================================\n",
      "Total params: 296,064\n",
      "Trainable params: 263,168\n",
      "Non-trainable params: 32,896\n",
      "________________________________________________________________________________\n"
     ]
    }
   ],
   "source": [
    "import keras\n",
    "import kapre\n",
    "from keras.models import Sequential\n",
    "from kapre.time_frequency import Melspectrogram\n",
    "import numpy as np\n",
    "\n",
    "print('Keras version: {}'.format(keras.__version__))\n",
    "print('Keras backend: {}'.format(keras.backend._backend))\n",
    "print('Keras image dim ordering: {}'.format(keras.backend.image_dim_ordering()))\n",
    "print('Kapre version: {}'.format(kapre.__version__))\n",
    "\n",
    "src = np.random.random((2, 44100))\n",
    "sr = 44100\n",
    "model = Sequential()\n",
    "model.add(Melspectrogram(sr=16000, n_mels=128, \n",
    "          n_dft=512, n_hop=256, input_shape=src.shape, \n",
    "          return_decibel_spectrogram=True,\n",
    "          trainable_kernel=True, name='melgram'))\n",
    "model.summary(line_length=80, positions=[.33, .65, .8, 1.])"
   ]
  },
  {
   "cell_type": "markdown",
   "metadata": {},
   "source": [
    "# AdditiveNoise"
   ]
  },
  {
   "cell_type": "code",
   "execution_count": 8,
   "metadata": {
    "collapsed": false
   },
   "outputs": [
    {
     "name": "stdout",
     "output_type": "stream",
     "text": [
      "Keras version: 1.2.1\n",
      "Keras backend: theano\n",
      "Keras image dim ordering: th\n",
      "Kapre version: 0.0.3\n",
      "________________________________________________________________________________\n",
      "Layer (type)              Output Shape              Param #     Connected to    \n",
      "================================================================================\n",
      "melgram (Melspectrogram)  (None, 2, 128, 173)       296064      melspectrogram_i\n",
      "________________________________________________________________________________\n",
      "additivenoise_1 (Additive (None, 2, 128, 173)       0           melgram[0][0]   \n",
      "================================================================================\n",
      "Total params: 296,064\n",
      "Trainable params: 0\n",
      "Non-trainable params: 296,064\n",
      "________________________________________________________________________________\n"
     ]
    }
   ],
   "source": [
    "import keras\n",
    "import kapre\n",
    "from keras.models import Sequential\n",
    "from kapre.time_frequency import Melspectrogram\n",
    "from kapre.augmentation import AdditiveNoise\n",
    "import numpy as np\n",
    "\n",
    "print('Keras version: {}'.format(keras.__version__))\n",
    "print('Keras backend: {}'.format(keras.backend._backend))\n",
    "print('Keras image dim ordering: {}'.format(keras.backend.image_dim_ordering()))\n",
    "print('Kapre version: {}'.format(kapre.__version__))\n",
    "\n",
    "src = np.random.random((2, 44100))\n",
    "sr = 44100\n",
    "model = Sequential()\n",
    "model.add(Melspectrogram(sr=16000, n_mels=128, \n",
    "          n_dft=512, n_hop=256, input_shape=src.shape, \n",
    "          return_decibel_spectrogram=True,\n",
    "          trainable_kernel=False, name='melgram'))\n",
    "model.add(AdditiveNoise(power=0.2))\n",
    "model.summary(line_length=80, positions=[.33, .65, .8, 1.])"
   ]
  },
  {
   "cell_type": "markdown",
   "metadata": {
    "collapsed": true
   },
   "source": [
    "# Stft"
   ]
  },
  {
   "cell_type": "code",
   "execution_count": 9,
   "metadata": {
    "collapsed": false
   },
   "outputs": [
    {
     "name": "stdout",
     "output_type": "stream",
     "text": [
      "Keras version: 1.2.1\n",
      "Keras backend: theano\n",
      "Keras image dim ordering: th\n",
      "Kapre version: 0.0.3\n",
      "________________________________________________________________________________\n",
      "Layer (type)              Output Shape              Param #     Connected to    \n",
      "================================================================================\n",
      "stft_4 (Stft)             (None, 129, 686, 2)       0           stft_input_4[0][\n",
      "================================================================================\n",
      "Total params: 0\n",
      "Trainable params: 0\n",
      "Non-trainable params: 0\n",
      "________________________________________________________________________________\n"
     ]
    }
   ],
   "source": [
    "import keras\n",
    "import kapre\n",
    "from keras.models import Sequential\n",
    "from kapre.stft import Stft\n",
    "import numpy as np\n",
    "\n",
    "print('Keras version: {}'.format(keras.__version__))\n",
    "print('Keras backend: {}'.format(keras.backend._backend))\n",
    "print('Keras image dim ordering: {}'.format(keras.backend.image_dim_ordering()))\n",
    "print('Kapre version: {}'.format(kapre.__version__))\n",
    "\n",
    "src = np.random.random((2, 44100))\n",
    "sr = 44100\n",
    "model = Sequential()\n",
    "model.add(Stft(n_fft=256, n_hop=64, return_decibel_stft=True,\n",
    "              input_shape=src.shape))\n",
    "model.summary(line_length=80, positions=[.33, .65, .8, 1.])"
   ]
  },
  {
   "cell_type": "code",
   "execution_count": null,
   "metadata": {
    "collapsed": false
   },
   "outputs": [],
   "source": []
  },
  {
   "cell_type": "code",
   "execution_count": null,
   "metadata": {
    "collapsed": true
   },
   "outputs": [],
   "source": []
  }
 ],
 "metadata": {
  "kernelspec": {
   "display_name": "Python 2",
   "language": "python",
   "name": "python2"
  },
  "language_info": {
   "codemirror_mode": {
    "name": "ipython",
    "version": 2
   },
   "file_extension": ".py",
   "mimetype": "text/x-python",
   "name": "python",
   "nbconvert_exporter": "python",
   "pygments_lexer": "ipython2",
   "version": "2.7.11"
  }
 },
 "nbformat": 4,
 "nbformat_minor": 0
}
