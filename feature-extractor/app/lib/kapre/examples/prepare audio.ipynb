{
 "cells": [
  {
   "cell_type": "markdown",
   "metadata": {},
   "source": [
    "# Prepare audio\n",
    "\n",
    "This notebook tells you how to prepare your audio when you use Kapre."
   ]
  },
  {
   "cell_type": "code",
   "execution_count": 8,
   "metadata": {
    "collapsed": false
   },
   "outputs": [
    {
     "name": "stdout",
     "output_type": "stream",
     "text": [
      "Keras version: 1.2.1\n",
      "Keras backend: tensorflow\n",
      "Keras image dim ordering: th\n",
      "Kapre version: 0.0.3\n"
     ]
    }
   ],
   "source": [
    "import librosa\n",
    "\"\"\"\n",
    "# You might consider soundfile unless loading mp3 is your concern.\n",
    "import soundfile as sf\n",
    "# mac, window: pip install soundfile, \n",
    "# linux: pip install soundfile & sudo apt-get install libsndfile1\n",
    "\"\"\"\n",
    "import keras\n",
    "import kapre\n",
    "from keras.models import Sequential\n",
    "from kapre.time_frequency import Spectrogram\n",
    "import numpy as np\n",
    "\n",
    "print('Keras version: {}'.format(keras.__version__))\n",
    "print('Keras backend: {}'.format(keras.backend._backend))\n",
    "print('Keras image dim ordering: {}'.format(keras.backend.image_dim_ordering()))\n",
    "print('Kapre version: {}'.format(kapre.__version__))\n"
   ]
  },
  {
   "cell_type": "markdown",
   "metadata": {},
   "source": [
    "# Loading an mp3 file"
   ]
  },
  {
   "cell_type": "code",
   "execution_count": 48,
   "metadata": {
    "collapsed": false
   },
   "outputs": [
    {
     "name": "stdout",
     "output_type": "stream",
     "text": [
      "(453888,)\n",
      "44100\n"
     ]
    }
   ],
   "source": [
    "src, sr = librosa.load('bensound-cute.mp3', sr=None, mono=True)\n",
    "print(src.shape)\n",
    "print(sr)"
   ]
  },
  {
   "cell_type": "markdown",
   "metadata": {},
   "source": [
    "# Trim it make it a 2d.\n",
    "\n",
    "If your file is mono, librosa.load returns a 1D array. Kapre always expects 2d array, so make it 2d."
   ]
  },
  {
   "cell_type": "code",
   "execution_count": 23,
   "metadata": {
    "collapsed": false
   },
   "outputs": [
    {
     "name": "stdout",
     "output_type": "stream",
     "text": [
      "(1, 44100)\n"
     ]
    }
   ],
   "source": [
    "len_second = 1.0 # 1 second\n",
    "src = src[:int(sr*len_second)]\n",
    "src = src[np.newaxis, :]\n",
    "input_shape = src.shape\n",
    "print(input_shape)"
   ]
  },
  {
   "cell_type": "markdown",
   "metadata": {},
   "source": [
    "# Let's assume we have 16 of this \n",
    "\n",
    "to make it more like a proper dataset. You should have many files indeed."
   ]
  },
  {
   "cell_type": "code",
   "execution_count": 49,
   "metadata": {
    "collapsed": false
   },
   "outputs": [
    {
     "name": "stdout",
     "output_type": "stream",
     "text": [
      "(16, 453888)\n"
     ]
    }
   ],
   "source": [
    "x = np.array([src] * 16)\n",
    "print(x.shape)"
   ]
  },
  {
   "cell_type": "markdown",
   "metadata": {},
   "source": [
    "# Now get a keras model using kapre\n",
    "\n",
    "A simple model with 10-class and single-label classification."
   ]
  },
  {
   "cell_type": "code",
   "execution_count": 41,
   "metadata": {
    "collapsed": false
   },
   "outputs": [
    {
     "name": "stdout",
     "output_type": "stream",
     "text": [
      "________________________________________________________________________________\n",
      "Layer (type)              Output Shape              Param #     Connected to    \n",
      "================================================================================\n",
      "static_stft (Spectrogram) (None, 1, 257, 173)       263168      spectrogram_inpu\n",
      "________________________________________________________________________________\n",
      "conv1 (Convolution2D)     (None, 32, 255, 171)      320         static_stft[0][0\n",
      "________________________________________________________________________________\n",
      "maxpooling2d_8 (MaxPoolin (None, 32, 10, 10)        0           conv1[0][0]     \n",
      "________________________________________________________________________________\n",
      "conv2 (Convolution2D)     (None, 32, 1, 1)          102432      maxpooling2d_8[0\n",
      "________________________________________________________________________________\n",
      "flatten_5 (Flatten)       (None, 32)                0           conv2[0][0]     \n",
      "________________________________________________________________________________\n",
      "dense_2 (Dense)           (None, 10)                330         flatten_5[0][0] \n",
      "================================================================================\n",
      "Total params: 366,250\n",
      "Trainable params: 103,082\n",
      "Non-trainable params: 263,168\n",
      "________________________________________________________________________________\n"
     ]
    }
   ],
   "source": [
    "model = Sequential()\n",
    "model.add(Spectrogram(n_dft=512, n_hop=256, input_shape=input_shape, \n",
    "          return_decibel_spectrogram=True, power_spectrogram=2.0, \n",
    "          trainable_kernel=False, name='static_stft'))\n",
    "model.add(keras.layers.Convolution2D(32, 3, 3, name='conv1', activation='relu'))\n",
    "model.add(keras.layers.MaxPooling2D((25, 17)))\n",
    "model.add(keras.layers.Convolution2D(32, 10, 10, name='conv2', activation='relu'))\n",
    "model.add(keras.layers.Flatten())\n",
    "model.add(keras.layers.Dense(10, activation='softmax'))\n",
    "model.summary(line_length=80, positions=[.33, .65, .8, 1.])"
   ]
  },
  {
   "cell_type": "markdown",
   "metadata": {},
   "source": [
    "# Training\n",
    "\n",
    "With real labels you'll train the model. I don't do it here."
   ]
  },
  {
   "cell_type": "code",
   "execution_count": 50,
   "metadata": {
    "collapsed": true
   },
   "outputs": [],
   "source": [
    "# model.fit()"
   ]
  },
  {
   "cell_type": "markdown",
   "metadata": {},
   "source": [
    "# Prediction\n",
    "\n",
    "In this notebook, it's not really trained to predict"
   ]
  },
  {
   "cell_type": "code",
   "execution_count": 46,
   "metadata": {
    "collapsed": false
   },
   "outputs": [
    {
     "name": "stdout",
     "output_type": "stream",
     "text": [
      "[7 7 7 7 7 7 7 7 7 7 7 7 7 7 7 7]\n"
     ]
    }
   ],
   "source": [
    "y = model.predict(x)\n",
    "print np.argmax(y, axis=1)"
   ]
  },
  {
   "cell_type": "code",
   "execution_count": null,
   "metadata": {
    "collapsed": true
   },
   "outputs": [],
   "source": []
  }
 ],
 "metadata": {
  "kernelspec": {
   "display_name": "Python 2",
   "language": "python",
   "name": "python2"
  },
  "language_info": {
   "codemirror_mode": {
    "name": "ipython",
    "version": 2
   },
   "file_extension": ".py",
   "mimetype": "text/x-python",
   "name": "python",
   "nbconvert_exporter": "python",
   "pygments_lexer": "ipython2",
   "version": "2.7.11"
  }
 },
 "nbformat": 4,
 "nbformat_minor": 0
}
